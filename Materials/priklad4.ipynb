{
 "cells": [
  {
   "cell_type": "code",
   "execution_count": 1,
   "id": "2a8d48da",
   "metadata": {},
   "outputs": [],
   "source": [
    "import math\n",
    "import cmath\n",
    "import numpy as np\n",
    "from numpy import linalg"
   ]
  },
  {
   "cell_type": "code",
   "execution_count": 4,
   "id": "ebb131ee",
   "metadata": {},
   "outputs": [],
   "source": [
    "U1 = 3\n",
    "U2 = 4\n",
    "R1 = 10\n",
    "R2 = 13\n",
    "L1 = 0.22\n",
    "L2 = 0.07\n",
    "C1 = 0.00023\n",
    "C2 = 0.000085\n",
    "f = 75"
   ]
  },
  {
   "cell_type": "code",
   "execution_count": 8,
   "id": "8cf18c11",
   "metadata": {},
   "outputs": [
    {
     "data": {
      "text/plain": [
       "471.23889803846896"
      ]
     },
     "execution_count": 8,
     "metadata": {},
     "output_type": "execute_result"
    }
   ],
   "source": [
    "w = 2*math.pi*f\n",
    "w"
   ]
  },
  {
   "cell_type": "code",
   "execution_count": 10,
   "id": "8ee4bb37",
   "metadata": {},
   "outputs": [
    {
     "data": {
      "text/plain": [
       "103.67255756846318j"
      ]
     },
     "execution_count": 10,
     "metadata": {},
     "output_type": "execute_result"
    }
   ],
   "source": [
    "ZL1 = complex(0,w*L1)\n",
    "ZL1"
   ]
  },
  {
   "cell_type": "code",
   "execution_count": 12,
   "id": "eb8f5c9b",
   "metadata": {},
   "outputs": [
    {
     "data": {
      "text/plain": [
       "32.98672286269283j"
      ]
     },
     "execution_count": 12,
     "metadata": {},
     "output_type": "execute_result"
    }
   ],
   "source": [
    "ZL2 = complex(0,w*L2)\n",
    "ZL2"
   ]
  },
  {
   "cell_type": "code",
   "execution_count": 15,
   "id": "4a6bd866",
   "metadata": {},
   "outputs": [
    {
     "data": {
      "text/plain": [
       "(-0-9.226373512573643j)"
      ]
     },
     "execution_count": 15,
     "metadata": {},
     "output_type": "execute_result"
    }
   ],
   "source": [
    "ZC1 = -(complex(0,1)/(w*C1))\n",
    "ZC1"
   ]
  },
  {
   "cell_type": "code",
   "execution_count": 16,
   "id": "f31deff1",
   "metadata": {},
   "outputs": [
    {
     "data": {
      "text/plain": [
       "(-0-24.965481269316918j)"
      ]
     },
     "execution_count": 16,
     "metadata": {},
     "output_type": "execute_result"
    }
   ],
   "source": [
    "ZC2 = -(complex(0,1)/(w*C2))\n",
    "ZC2"
   ]
  },
  {
   "cell_type": "code",
   "execution_count": 17,
   "id": "8b7ccd65",
   "metadata": {},
   "outputs": [
    {
     "data": {
      "text/plain": [
       "array([[ 23.+94.44618406j, -10. +9.22637351j, -13. +0.j        ],\n",
       "       [-10. +9.22637351j,  10.+23.76034935j,  -0.-32.98672286j],\n",
       "       [-13. +0.j        ,  -0.-32.98672286j,  13. +8.02124159j]])"
      ]
     },
     "execution_count": 17,
     "metadata": {},
     "output_type": "execute_result"
    }
   ],
   "source": [
    "M = np.array([[R2+R1+ZC1+ZL1,-ZC1-R1,-R2],[-R1-ZC1,ZC1+R1+ZL2,-ZL2],[-R2,-ZL2,ZL2+R2+ZC2]])\n",
    "M"
   ]
  },
  {
   "cell_type": "code",
   "execution_count": 20,
   "id": "82618b30",
   "metadata": {},
   "outputs": [
    {
     "data": {
      "text/plain": [
       "array([[0.00124782-0.01105699j, 0.003308  -0.00297538j,\n",
       "        0.00518173-0.00586036j],\n",
       "       [0.003308  -0.00297538j, 0.01542931+0.00262558j,\n",
       "        0.01373693+0.02769962j],\n",
       "       [0.00518173-0.00586036j, 0.01373693+0.02769962j,\n",
       "        0.02151782+0.01571938j]])"
      ]
     },
     "execution_count": 20,
     "metadata": {},
     "output_type": "execute_result"
    }
   ],
   "source": [
    "Minv = linalg.inv(M)\n",
    "Minv"
   ]
  },
  {
   "cell_type": "code",
   "execution_count": 21,
   "id": "6be62d9d",
   "metadata": {},
   "outputs": [
    {
     "data": {
      "text/plain": [
       "array([[-0.0108029 +0.01451527j],\n",
       "       [-0.00865979-0.10292173j],\n",
       "       [-0.04486051+0.02022134j]])"
      ]
     },
     "execution_count": 21,
     "metadata": {},
     "output_type": "execute_result"
    }
   ],
   "source": [
    "P = np.dot(Minv, np.array([[0],[3],[-4]]))\n",
    "P"
   ]
  },
  {
   "cell_type": "code",
   "execution_count": 24,
   "id": "8804941b",
   "metadata": {},
   "outputs": [
    {
     "data": {
      "text/plain": [
       "(-0.010802900391850175+0.01451527401801071j)"
      ]
     },
     "execution_count": 24,
     "metadata": {},
     "output_type": "execute_result"
    }
   ],
   "source": [
    "IA = P[0][0]\n",
    "IA"
   ]
  },
  {
   "cell_type": "code",
   "execution_count": 25,
   "id": "b258b74e",
   "metadata": {},
   "outputs": [
    {
     "data": {
      "text/plain": [
       "(-0.008659790520641808-0.10292173483319066j)"
      ]
     },
     "execution_count": 25,
     "metadata": {},
     "output_type": "execute_result"
    }
   ],
   "source": [
    "IB = P[1][0]\n",
    "IB"
   ]
  },
  {
   "cell_type": "code",
   "execution_count": 26,
   "id": "f4d0ae0c",
   "metadata": {},
   "outputs": [
    {
     "data": {
      "text/plain": [
       "(-0.044860513630751414+0.020221343855072654j)"
      ]
     },
     "execution_count": 26,
     "metadata": {},
     "output_type": "execute_result"
    }
   ],
   "source": [
    "IC = P[2][0]\n",
    "IC"
   ]
  },
  {
   "cell_type": "code",
   "execution_count": 29,
   "id": "88eab60c",
   "metadata": {},
   "outputs": [
    {
     "data": {
      "text/plain": [
       "4.233972797701627"
      ]
     },
     "execution_count": 29,
     "metadata": {},
     "output_type": "execute_result"
    }
   ],
   "source": [
    "UL2 = abs(ZL2 * (IB - IC))\n",
    "UL2"
   ]
  },
  {
   "cell_type": "code",
   "execution_count": 32,
   "id": "c6b75e5c",
   "metadata": {},
   "outputs": [
    {
     "data": {
      "text/plain": [
       "0.28591817765805744"
      ]
     },
     "execution_count": 32,
     "metadata": {},
     "output_type": "execute_result"
    }
   ],
   "source": [
    "#I got these values out of:ZL2 * (IB - IC)\n",
    "phi =  math.atan(1.1941432206622653/4.062086609148517)\n",
    "phi"
   ]
  },
  {
   "cell_type": "code",
   "execution_count": 33,
   "id": "b1396f59",
   "metadata": {},
   "outputs": [
    {
     "data": {
      "text/plain": [
       "16.381904865878358"
      ]
     },
     "execution_count": 33,
     "metadata": {},
     "output_type": "execute_result"
    }
   ],
   "source": [
    "math.degrees(phi)"
   ]
  },
  {
   "cell_type": "code",
   "execution_count": null,
   "id": "424822ed",
   "metadata": {},
   "outputs": [],
   "source": []
  }
 ],
 "metadata": {
  "kernelspec": {
   "display_name": "Python 3 (ipykernel)",
   "language": "python",
   "name": "python3"
  },
  "language_info": {
   "codemirror_mode": {
    "name": "ipython",
    "version": 3
   },
   "file_extension": ".py",
   "mimetype": "text/x-python",
   "name": "python",
   "nbconvert_exporter": "python",
   "pygments_lexer": "ipython3",
   "version": "3.11.6"
  }
 },
 "nbformat": 4,
 "nbformat_minor": 5
}
