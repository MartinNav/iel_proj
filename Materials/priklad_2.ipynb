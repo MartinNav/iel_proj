{
 "cells": [
  {
   "cell_type": "code",
   "execution_count": 1,
   "id": "99dbc64f",
   "metadata": {},
   "outputs": [],
   "source": [
    "U = 180\n",
    "R1 = 250\n",
    "R2 = 315\n",
    "R3 = 615\n",
    "R4 = 180\n",
    "R5 = 460\n",
    "R6 = 120"
   ]
  },
  {
   "cell_type": "code",
   "execution_count": 2,
   "id": "cd6d4260",
   "metadata": {},
   "outputs": [],
   "source": [
    "R23 = R2 + R3\n",
    "R45 = R4 + R5\n",
    "REKV = R1 + ((R23*R45)/(R23+R45))\n",
    "print(\"R23:\", R23, \"R45:\", R45, \"REKV:\", REKV)"
   ]
  },
  {
   "cell_type": "code",
   "execution_count": 3,
   "id": "0ba13bf9",
   "metadata": {},
   "outputs": [],
   "source": [
    "I = U/REKV\n",
    "I"
   ]
  },
  {
   "cell_type": "code",
   "execution_count": 4,
   "id": "e0b01b85",
   "metadata": {},
   "outputs": [],
   "source": [
    "UR45 = U - (I*R1)\n",
    "UR45"
   ]
  },
  {
   "cell_type": "code",
   "execution_count": 5,
   "id": "49ceafd6",
   "metadata": {},
   "outputs": [],
   "source": [
    "IR45 = UR45/(R45)\n",
    "IR45"
   ]
  },
  {
   "cell_type": "code",
   "execution_count": 6,
   "id": "ff47fc7b",
   "metadata": {},
   "outputs": [],
   "source": [
    "Ui = IR45 * R5\n",
    "U"
   ]
  },
  {
   "cell_type": "code",
   "execution_count": 7,
   "id": "0a01df80",
   "metadata": {},
   "outputs": [],
   "source": [
    "Ri = ((((R23*R1)/(R1+R23))+R4)*R5)/(((R23*R1)/(R1+R23))+R45)\n",
    "#Ri"
   ]
  },
  {
   "cell_type": "code",
   "execution_count": 8,
   "id": "498b7607",
   "metadata": {},
   "outputs": [
    {
     "name": "stdout",
     "output_type": "stream",
     "text": [
      "IR6 =  0.23827116944841545\n",
      "UR6 =  28.592540333809854\n"
     ]
    }
   ],
   "source": [
    "IR6 = Ui / (Ri + R6)\n",
    "print(\"IR6 = \",IR6)\n",
    "UR6 = R6 * IR6\n",
    "print(\"UR6 = \",UR6)"
   ]
  },
  {
   "cell_type": "code",
   "execution_count": null,
   "id": "72b8a049",
   "metadata": {},
   "outputs": [],
   "source": []
  }
 ],
 "metadata": {
  "kernelspec": {
   "display_name": "Python 3 (ipykernel)",
   "language": "python",
   "name": "python3"
  },
  "language_info": {
   "codemirror_mode": {
    "name": "ipython",
    "version": 3
   },
   "file_extension": ".py",
   "mimetype": "text/x-python",
   "name": "python",
   "nbconvert_exporter": "python",
   "pygments_lexer": "ipython3",
   "version": "3.11.6"
  }
 },
 "nbformat": 4,
 "nbformat_minor": 5
}
