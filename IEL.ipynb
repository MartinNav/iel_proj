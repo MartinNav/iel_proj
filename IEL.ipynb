{
 "cells": [
  {
   "cell_type": "code",
   "execution_count": 1,
   "id": "5b84539c",
   "metadata": {},
   "outputs": [],
   "source": [
    "U = 130\n",
    "I1 = 0.95\n",
    "I2 = 0.50\n",
    "R1 = 47\n",
    "R2 = 39\n",
    "R3 = 58\n",
    "R4 = 28\n",
    "R5 = 25"
   ]
  },
  {
   "cell_type": "code",
   "execution_count": null,
   "id": "9d2714cf",
   "metadata": {},
   "outputs": [],
   "source": []
  }
 ],
 "metadata": {
  "kernelspec": {
   "display_name": "Python 3 (ipykernel)",
   "language": "python",
   "name": "python3"
  },
  "language_info": {
   "codemirror_mode": {
    "name": "ipython",
    "version": 3
   },
   "file_extension": ".py",
   "mimetype": "text/x-python",
   "name": "python",
   "nbconvert_exporter": "python",
   "pygments_lexer": "ipython3",
   "version": "3.11.6"
  }
 },
 "nbformat": 4,
 "nbformat_minor": 5
}
