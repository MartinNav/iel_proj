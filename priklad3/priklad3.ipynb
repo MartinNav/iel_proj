{
 "cells": [
  {
   "cell_type": "code",
   "execution_count": 1,
   "id": "32ef16b7",
   "metadata": {},
   "outputs": [],
   "source": [
    "U = 130\n",
    "I1 = 0.95\n",
    "I2 =0.5\n",
    "R1 = 47\n",
    "R2 = 39\n",
    "R3 = 58\n",
    "R4 = 28\n",
    "R5 = 25"
   ]
  },
  {
   "cell_type": "code",
   "execution_count": 2,
   "id": "2deb0682",
   "metadata": {},
   "outputs": [],
   "source": [
    "import numpy as np"
   ]
  },
  {
   "cell_type": "code",
   "execution_count": 3,
   "id": "7c5479f0",
   "metadata": {},
   "outputs": [],
   "source": [
    "G1 = 1/R1\n",
    "G2 = 1/R2\n",
    "G3 = 1/R3\n",
    "G4 = 1/R4\n",
    "G5 = 1/R5"
   ]
  },
  {
   "cell_type": "code",
   "execution_count": 4,
   "id": "3b746f14",
   "metadata": {},
   "outputs": [],
   "source": [
    "# Již vypočtené hodnoty slouží k testování\n",
    "UA =60.50403865\n",
    "UB = 73.65951752\n",
    "UC = 64.22407585"
   ]
  },
  {
   "cell_type": "code",
   "execution_count": 5,
   "id": "87c839b7",
   "metadata": {},
   "outputs": [
    {
     "data": {
      "text/plain": [
       "-0.9500000002509548"
      ]
     },
     "execution_count": 5,
     "metadata": {},
     "output_type": "execute_result"
    }
   ],
   "source": [
    "G1*(-UA)+G2*(-UA+UB)"
   ]
  },
  {
   "cell_type": "code",
   "execution_count": 6,
   "id": "95a9e540",
   "metadata": {},
   "outputs": [
    {
     "data": {
      "text/plain": [
       "-0.4999999998187442"
      ]
     },
     "execution_count": 6,
     "metadata": {},
     "output_type": "execute_result"
    }
   ],
   "source": [
    "#B)G2*(UA-UB) +G3*(-UB+UC)\n",
    "G2*(UA-UB)+G3*(-UB+UC)"
   ]
  },
  {
   "cell_type": "code",
   "execution_count": 7,
   "id": "565cd031",
   "metadata": {},
   "outputs": [
    {
     "data": {
      "text/plain": [
       "-4.699999999849754"
      ]
     },
     "execution_count": 7,
     "metadata": {},
     "output_type": "execute_result"
    }
   ],
   "source": [
    "#C\n",
    "G3*(UB-UC)+G4*(-UC)+G5*(-UC)"
   ]
  },
  {
   "cell_type": "code",
   "execution_count": 8,
   "id": "188679e6",
   "metadata": {},
   "outputs": [
    {
     "data": {
      "text/plain": [
       "-4.7"
      ]
     },
     "execution_count": 8,
     "metadata": {},
     "output_type": "execute_result"
    }
   ],
   "source": [
    "0.5-(130/25)"
   ]
  },
  {
   "cell_type": "code",
   "execution_count": 9,
   "id": "a2e2cf8c",
   "metadata": {},
   "outputs": [],
   "source": [
    "A = np.array([[-G1-G2, G2,0],[G2,-G2-G3,G3],[0,G3,-G3-G4-G5]])\n",
    "I = np.array([[-I1],[-I2],[I2-(130/R5)]])"
   ]
  },
  {
   "cell_type": "code",
   "execution_count": 12,
   "id": "7934fefd",
   "metadata": {},
   "outputs": [],
   "source": [
    "Ainv = np.linalg.inv(A)"
   ]
  },
  {
   "cell_type": "code",
   "execution_count": 13,
   "id": "e7b52425",
   "metadata": {},
   "outputs": [
    {
     "data": {
      "text/plain": [
       "array([[60.50403865],\n",
       "       [73.65951752],\n",
       "       [64.22407585]])"
      ]
     },
     "execution_count": 13,
     "metadata": {},
     "output_type": "execute_result"
    }
   ],
   "source": [
    "np.dot(Ainv,I)"
   ]
  },
  {
   "cell_type": "code",
   "execution_count": null,
   "id": "4d0633bd",
   "metadata": {},
   "outputs": [],
   "source": []
  }
 ],
 "metadata": {
  "kernelspec": {
   "display_name": "Python 3 (ipykernel)",
   "language": "python",
   "name": "python3"
  },
  "language_info": {
   "codemirror_mode": {
    "name": "ipython",
    "version": 3
   },
   "file_extension": ".py",
   "mimetype": "text/x-python",
   "name": "python",
   "nbconvert_exporter": "python",
   "pygments_lexer": "ipython3",
   "version": "3.11.6"
  }
 },
 "nbformat": 4,
 "nbformat_minor": 5
}
